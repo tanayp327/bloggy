{
 "cells": [
  {
   "cell_type": "markdown",
   "metadata": {},
   "source": [
    "---\n",
    "- toc: true\n",
    "- comments: false\n",
    "- layout: post\n",
    "- title: APCSA Lesson Hacks\n",
    "- description: Hacks for Unit 2\n",
    "- type: hacks\n",
    "- courses: { csa: {week: 6} }\n",
    "---"
   ]
  },
  {
   "cell_type": "markdown",
   "metadata": {},
   "source": [
    "## Unit 2: Using Objects"
   ]
  },
  {
   "cell_type": "markdown",
   "metadata": {},
   "source": [
    "### Section 1\n",
    "\n",
    "**The relationship between classes and objects, in my own words:**\n",
    "\n",
    "- Classes are blueprints or templates that define the structure and behavior of objects. Objects are instances of classes, representing specific entities with unique attributes and behavior defined by their corresponding class."
   ]
  },
  {
   "cell_type": "markdown",
   "metadata": {},
   "source": [
    "### Section 2"
   ]
  },
  {
   "cell_type": "code",
   "execution_count": 9,
   "metadata": {},
   "outputs": [],
   "source": [
    "public class Student {\n",
    "\n",
    "    // instance variables\n",
    "    String name;\n",
    "    String teacher;\n",
    "    int period;\n",
    "\n",
    "    // constructor\n",
    "    public Student(String name, String teacher, int period) {\n",
    "        this.name = name;\n",
    "        this.teacher = teacher;\n",
    "        this.period = period;\n",
    "    }\n",
    "    // Identify, using its signature, the correct constructor being called.\n",
    "\n",
    "    // There is only one constructor method. However, I can specify that this class uses parameters to be set\n",
    "    // for each instance. This means that on initialization, the instance must have the parameters, as\n",
    "    // demonstrated in the following main method I created:\n",
    "\n",
    "    public static void main(String[] args) {\n",
    "        Student student = new Student(\"Paaras\", \"Mr. Mortensen\", 1);\n",
    "        // Student errorStudent = new Student(); This line is commented out as it will cause errors, as\n",
    "        // discussed above.\n",
    "    }\n",
    "}\n",
    "Student.main(null);"
   ]
  },
  {
   "cell_type": "markdown",
   "metadata": {},
   "source": [
    "### Section 3"
   ]
  },
  {
   "cell_type": "code",
   "execution_count": 40,
   "metadata": {},
   "outputs": [
    {
     "name": "stdout",
     "output_type": "stream",
     "text": [
      "This is a static method.\n",
      "This is a non-static method.\n",
      "This method has a void return type.\n"
     ]
    }
   ],
   "source": [
    "public class MyClass {\n",
    "\n",
    "    // Static method\n",
    "    public static void staticMethod() {\n",
    "        System.out.println(\"This is a static method.\");\n",
    "    }\n",
    "\n",
    "    // Non-static (instance) method\n",
    "    public void nonStaticMethod() {\n",
    "        System.out.println(\"This is a non-static method.\");\n",
    "    }\n",
    "\n",
    "    // Method with void return type\n",
    "    public void methodWithVoidReturnType() {\n",
    "        System.out.println(\"This method has a void return type.\");\n",
    "    }\n",
    "\n",
    "    public static void main(String[] args) {\n",
    "        // Calling the static method\n",
    "        staticMethod();\n",
    "\n",
    "        // Creating an object of MyClass\n",
    "        MyClass myObject = new MyClass();\n",
    "\n",
    "        // Calling the non-static method on the object\n",
    "        myObject.nonStaticMethod();\n",
    "\n",
    "        // Calling the method with void return type\n",
    "        myObject.methodWithVoidReturnType();\n",
    "    }\n",
    "}\n",
    "MyClass.main(null);"
   ]
  },
  {
   "cell_type": "markdown",
   "metadata": {},
   "source": [
    "### Section 5"
   ]
  },
  {
   "cell_type": "markdown",
   "metadata": {},
   "source": [
    "Which method in this class is a non-void method? Edit the cell below to call the Calculator method."
   ]
  },
  {
   "cell_type": "code",
   "execution_count": 39,
   "metadata": {},
   "outputs": [],
   "source": [
    "public class Calculator {\n",
    "    public int add(int a, int b) {\n",
    "        return a + b;\n",
    "    }\n",
    "\n",
    "    public static void main(String[] args) {\n",
    "        Calculator calculator = new Calculator();\n",
    "\n",
    "        int sum = calculator.add(5, 3);\n",
    "\n",
    "        // Printing the result\n",
    "        System.out.println(\"Sum: \" + sum); // Output: Sum: 8\n",
    "    }\n",
    "}"
   ]
  },
  {
   "cell_type": "markdown",
   "metadata": {},
   "source": [
    "The `add()` function is a non-void method. It will return an integer."
   ]
  },
  {
   "cell_type": "markdown",
   "metadata": {},
   "source": [
    "### Section 6"
   ]
  },
  {
   "cell_type": "markdown",
   "metadata": {},
   "source": [
    "Challenge: Display the background of the quote while displaying the quote in one line: “Give me liberty or give me death!” - Patrick Henry."
   ]
  },
  {
   "cell_type": "code",
   "execution_count": 12,
   "metadata": {},
   "outputs": [
    {
     "name": "stdout",
     "output_type": "stream",
     "text": [
      "This is a famous quote written by Patrick Henry in the Virginia Convention: \n",
      "\"Give me liberty or give me death!\"\n"
     ]
    }
   ],
   "source": [
    "System.out.println(\"This is a famous quote written by Patrick Henry in the Virginia Convention: \\n\\\"Give me liberty or give me death!\\\"\");\n",
    "\n",
    "// This code works because of the \\n syntax. The syntax creates a new line when used."
   ]
  },
  {
   "cell_type": "markdown",
   "metadata": {},
   "source": [
    "Question: If we have a string, what is its lower bound index and what is its upper bound index, if the string length is equal to the variable ‘str’?\n",
    "\n",
    "Answer: The lower bound would be 0, unless CollegeBoard still uses a starting index of 1, and the upper bound would be one less than the length of the string, or `str - 1`."
   ]
  },
  {
   "cell_type": "markdown",
   "metadata": {},
   "source": [
    "Question: What is the error for an out of bound string? Display it in the cell below.\n",
    "\n",
    "```java\n",
    "String str = \"Hello\";\n",
    "System.out.println(str.substring(0, 1000))\n",
    "```\n",
    "\n",
    "Answer: The error is that 1000 is out of bounds for a string with only five characters, or a length of 5. "
   ]
  },
  {
   "cell_type": "markdown",
   "metadata": {},
   "source": [
    "### FRQ Hacks"
   ]
  },
  {
   "cell_type": "markdown",
   "metadata": {},
   "source": [
    "**Question 1:** Create a void method that takes an integer input and adds it to an ArrayList. Then, add a non-void method that is able to call a certain index from the ArrayList."
   ]
  },
  {
   "cell_type": "code",
   "execution_count": 38,
   "metadata": {},
   "outputs": [
    {
     "name": "stdout",
     "output_type": "stream",
     "text": [
      "Enter numbers to add to the list (enter 'done' to finish):\n"
     ]
    },
    {
     "name": "stdout",
     "output_type": "stream",
     "text": [
      "Numbers in the ArrayList: [72308, 12838, 5, 7, 1, 1823]\n",
      "Enter an index to retrieve a number: Number at index 0: 72308\n"
     ]
    }
   ],
   "source": [
    "public class NumberList {\n",
    "    private ArrayList<Integer> numbersList;\n",
    "\n",
    "    public NumberList() {\n",
    "        numbersList = new ArrayList<>();\n",
    "    }\n",
    "\n",
    "    public void addNumber(int number) {\n",
    "        numbersList.add(number);\n",
    "    }\n",
    "\n",
    "    public int getNumberAtIndex(int index) {\n",
    "        if (index >= 0 && index < numbersList.size()) {\n",
    "            return numbersList.get(index);\n",
    "        } else {\n",
    "            throw new IndexOutOfBoundsException(\"Index out of bounds\");\n",
    "        }\n",
    "    }\n",
    "\n",
    "    public static void main(String[] args) {\n",
    "        NumberList numberList = new NumberList();\n",
    "        Scanner scanner = new Scanner(System.in);\n",
    "\n",
    "        // Prompt the user to add numbers\n",
    "        System.out.println(\"Enter numbers to add to the list (enter 'done' to finish):\");\n",
    "        String input;\n",
    "        while (true) {\n",
    "            input = scanner.nextLine();\n",
    "            if (input.equalsIgnoreCase(\"done\")) {\n",
    "                break;\n",
    "            }\n",
    "            try {\n",
    "                int number = Integer.parseInt(input);\n",
    "                numberList.addNumber(number);\n",
    "            } catch (NumberFormatException e) {\n",
    "                System.out.println(\"Invalid input. Please enter a number or 'done' to finish.\");\n",
    "            }\n",
    "        }\n",
    "\n",
    "        // Print the ArrayList\n",
    "        System.out.println(\"Numbers in the ArrayList: \" + numberList.numbersList);\n",
    "\n",
    "        // Prompt the user to enter an index\n",
    "        System.out.print(\"Enter an index to retrieve a number: \");\n",
    "        try {\n",
    "            int index = scanner.nextInt();\n",
    "            int numberAtIndex = numberList.getNumberAtIndex(index);\n",
    "            System.out.println(\"Number at index \" + index + \": \" + numberAtIndex);\n",
    "        } catch (IndexOutOfBoundsException e) {\n",
    "            System.out.println(\"Index out of bounds: \" + e.getMessage());\n",
    "        } catch (java.util.InputMismatchException e) {\n",
    "            System.out.println(\"Invalid input. Please enter a valid index.\");\n",
    "        }\n",
    "    }\n",
    "}\n",
    "NumberList.main(null);"
   ]
  },
  {
   "cell_type": "markdown",
   "metadata": {},
   "source": [
    "**Question 2:** Create a simple guessing game with random numbers in math, except the random number is taken to a random exponent (also includes roots), and the person has to find out what the root and exponent is (with hints!). Use at least one static and one non-static method in your class."
   ]
  },
  {
   "cell_type": "code",
   "execution_count": 30,
   "metadata": {},
   "outputs": [
    {
     "name": "stdout",
     "output_type": "stream",
     "text": [
      "Welcome to the guessing game!\n",
      "Guess the base and exponent (both between 1 and 10) for the number.\n",
      "Type 'exit' to quit the game.\n",
      "Enter your guess for the base: Enter your guess for the exponent: Wrong guess. Here's a hint:\n",
      "Hint: Base is even, Exponent is even\n",
      "Enter your second guess for the base: The correct base was 8\n",
      "The correct exponent was 2\n",
      "Thanks for playing. Exiting the game.\n"
     ]
    }
   ],
   "source": [
    "public class GuessingGame {\n",
    "    private static Random random = new Random();\n",
    "    private int base;\n",
    "    private int exponent;\n",
    "\n",
    "    public GuessingGame() {\n",
    "        base = generateRandomBase();\n",
    "        exponent = generateRandomExponent();\n",
    "    }\n",
    "\n",
    "    private int generateRandomBase() {\n",
    "        return random.nextInt(10) + 1;\n",
    "    }\n",
    "\n",
    "    private int generateRandomExponent() {\n",
    "        return random.nextInt(10) + 1;\n",
    "    }\n",
    "\n",
    "    public void playGame() {\n",
    "        Scanner scanner = new Scanner(System.in);\n",
    "        System.out.println(\"Welcome to the guessing game!\");\n",
    "        System.out.println(\"Guess the base and exponent (both between 1 and 10) for the number.\");\n",
    "        System.out.println(\"Type 'exit' to quit the game.\");\n",
    "\n",
    "        System.out.print(\"Enter your guess for the base: \");\n",
    "        String input = scanner.nextLine();\n",
    "\n",
    "        if (input.equalsIgnoreCase(\"exit\")) {\n",
    "            System.out.println(\"The correct base was \" + base);\n",
    "            System.out.println(\"The correct exponent was \" + exponent);\n",
    "            System.out.println(\"Thanks for playing. Exiting the game.\");\n",
    "            return;\n",
    "        }\n",
    "\n",
    "        int guessedBase = Integer.parseInt(input);\n",
    "\n",
    "        System.out.print(\"Enter your guess for the exponent: \");\n",
    "        input = scanner.nextLine();\n",
    "\n",
    "        if (input.equalsIgnoreCase(\"exit\")) {\n",
    "            System.out.println(\"The correct base was \" + base);\n",
    "            System.out.println(\"The correct exponent was \" + exponent);\n",
    "            System.out.println(\"Thanks for playing. Exiting the game.\");\n",
    "            return;\n",
    "        }\n",
    "\n",
    "        int guessedExponent = Integer.parseInt(input);\n",
    "\n",
    "        if (guessedBase == base && guessedExponent == exponent) {\n",
    "            System.out.println(\"Congratulations! You guessed correctly.\");\n",
    "        } else {\n",
    "            System.out.println(\"Wrong guess. Here's a hint:\");\n",
    "            System.out.println(\"Hint: Base is \" + (base % 2 == 0 ? \"even\" : \"odd\") +\n",
    "                    \", Exponent is \" + (exponent % 2 == 0 ? \"even\" : \"odd\"));\n",
    "\n",
    "            System.out.print(\"Enter your second guess for the base: \");\n",
    "            input = scanner.nextLine();\n",
    "\n",
    "            if (input.equalsIgnoreCase(\"exit\")) {\n",
    "                System.out.println(\"The correct base was \" + base);\n",
    "                System.out.println(\"The correct exponent was \" + exponent);\n",
    "                System.out.println(\"Thanks for playing. Exiting the game.\");\n",
    "                return;\n",
    "            }\n",
    "\n",
    "            guessedBase = Integer.parseInt(input);\n",
    "\n",
    "            System.out.print(\"Enter your second guess for the exponent: \");\n",
    "            input = scanner.nextLine();\n",
    "\n",
    "            if (input.equalsIgnoreCase(\"exit\")) {\n",
    "                System.out.println(\"The correct base was \" + base);\n",
    "                System.out.println(\"The correct exponent was \" + exponent);\n",
    "                System.out.println(\"Thanks for playing. Exiting the game.\");\n",
    "                return;\n",
    "            }\n",
    "\n",
    "            guessedExponent = Integer.parseInt(input);\n",
    "\n",
    "            if (guessedBase == base && guessedExponent == exponent) {\n",
    "                System.out.println(\"Congratulations! You guessed correctly on your second try.\");\n",
    "            } else {\n",
    "                System.out.println(\"Wrong guess. The base was \" + base + \" and the exponent was \" + exponent);\n",
    "            }\n",
    "        }\n",
    "    }\n",
    "\n",
    "    public static void main(String[] args) {\n",
    "        GuessingGame game = new GuessingGame();\n",
    "        game.playGame();\n",
    "    }\n",
    "}\n",
    "GuessingGame.main(null)"
   ]
  },
  {
   "cell_type": "markdown",
   "metadata": {},
   "source": [
    "**Question 3:** Create a class of your choosing that has multiple parameters of different types (int, boolean, String, double) and put 5 data values in that list. Show that you can access the information by givng some samples."
   ]
  },
  {
   "cell_type": "code",
   "execution_count": 20,
   "metadata": {},
   "outputs": [
    {
     "name": "stdout",
     "output_type": "stream",
     "text": [
      "Name: Tanay\n",
      "Age: 16\n",
      "Gets Play: true\n",
      "Height: 100.0 inches\n",
      "\n",
      "Name: Shreyas\n",
      "Age: 16\n",
      "Gets Play: false\n",
      "Height: 7.2 inches\n",
      "\n",
      "Name: Yuri\n",
      "Age: 16\n",
      "Gets Play: false\n",
      "Height: 6.0 inches\n",
      "\n",
      "Name: Paaras\n",
      "Age: 16\n",
      "Gets Play: false\n",
      "Height: 6.5 inches\n",
      "\n"
     ]
    }
   ],
   "source": [
    "public class Person {\n",
    "    private int age;\n",
    "    private boolean getsPlay;\n",
    "    private String name;\n",
    "    private double height;\n",
    "\n",
    "    public Person(int age, boolean getsPlay, String name, double height) {\n",
    "        this.age = age;\n",
    "        this.getsPlay = getsPlay;\n",
    "        this.name = name;\n",
    "        this.height = height;\n",
    "    }\n",
    "\n",
    "    public void displayInfo() {\n",
    "        System.out.println(\"Name: \" + name);\n",
    "        System.out.println(\"Age: \" + age);\n",
    "        System.out.println(\"Gets Play: \" + getsPlay);\n",
    "        System.out.println(\"Height: \" + height + \" inches\");\n",
    "        System.out.println();\n",
    "    }\n",
    "\n",
    "    public static void main(String[] args) {\n",
    "        // Create 5 instances of Person with different data values\n",
    "        Person person1 = new Person(16, true, \"Tanay\", 100.0);\n",
    "        Person person2 = new Person(16, false, \"Shreyas\", 7.2);\n",
    "        Person person3 = new Person(16, false, \"Yuri\", 6.0);\n",
    "        Person person4 = new Person (16, false, \"Paaras\", 6.5);\n",
    "\n",
    "        // Display information for each person\n",
    "        person1.displayInfo();\n",
    "        person2.displayInfo();\n",
    "        person3.displayInfo();\n",
    "        person4.displayInfo();\n",
    "    }\n",
    "}\n",
    "Person.main(null);"
   ]
  },
  {
   "cell_type": "markdown",
   "metadata": {},
   "source": [
    "**Question 4:** Using your preliminary knowlege of loops, use a for loop to iterate through a person’s first and last name, seperated by a space, and create methods to call a person’s first name and a person’s last name by iterating through the string."
   ]
  },
  {
   "cell_type": "code",
   "execution_count": 14,
   "metadata": {},
   "outputs": [
    {
     "name": "stdout",
     "output_type": "stream",
     "text": [
      "First Name: Tanay\n",
      "Last Name: Patel\n"
     ]
    }
   ],
   "source": [
    "public class PersonNameIterator {\n",
    "    private String fullName;\n",
    "\n",
    "    public PersonNameIterator(String fullName) {\n",
    "        this.fullName = fullName;\n",
    "    }\n",
    "\n",
    "    public String getFirstName() {\n",
    "        // Split the full name into parts based on the space separator\n",
    "        String[] nameParts = fullName.split(\" \");\n",
    "\n",
    "        // Return the first part as the first name\n",
    "        return nameParts.length > 0 ? nameParts[0] : \"\";\n",
    "    }\n",
    "\n",
    "    public String getLastName() {\n",
    "        // Split the full name into parts based on the space separator\n",
    "        String[] nameParts = fullName.split(\" \");\n",
    "\n",
    "        // Return the last part as the last name\n",
    "        return nameParts.length > 1 ? nameParts[1] : \"\";\n",
    "    }\n",
    "\n",
    "    public static void main(String[] args) {\n",
    "        String fullName = \"Tanay Patel\";\n",
    "        PersonNameIterator iterator = new PersonNameIterator(fullName);\n",
    "\n",
    "        // Display the first and last name using the methods\n",
    "        System.out.println(\"First Name: \" + iterator.getFirstName());\n",
    "        System.out.println(\"Last Name: \" + iterator.getLastName());\n",
    "    }\n",
    "}\n",
    "PersonNameIterator.main(null);"
   ]
  }
 ],
 "metadata": {
  "kernelspec": {
   "display_name": "Java",
   "language": "java",
   "name": "java"
  },
  "language_info": {
   "codemirror_mode": "java",
   "file_extension": ".jshell",
   "mimetype": "text/x-java-source",
   "name": "java",
   "pygments_lexer": "java",
   "version": "19.0.1+10"
  },
  "orig_nbformat": 4
 },
 "nbformat": 4,
 "nbformat_minor": 2
}
