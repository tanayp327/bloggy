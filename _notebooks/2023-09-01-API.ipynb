{
 "cells": [
  {
   "cell_type": "markdown",
   "metadata": {},
   "source": [
    "---\n",
    "toc: true\n",
    "comments: true\n",
    "layout: post\n",
    "title: JavaScript API Practice\n",
    "description: NBA Team related (players and stats)\n",
    "type: hacks\n",
    "courses: { csa: {week: 2} }\n",
    "---"
   ]
  },
  {
   "cell_type": "code",
   "execution_count": 1,
   "metadata": {},
   "outputs": [
    {
     "data": {
      "application/javascript": "\n// app.js\nconst express = require('express');\nconst app = express();\nconst port = 3000; // You can choose any available port\n\n// Generate random NBA player statistics\nfunction generateNBAStats(playerName) {\n  const points = Math.floor(Math.random() * 30) + 1; // Random points between 1 and 30\n  const rebounds = Math.floor(Math.random() * 15) + 1; // Random rebounds between 1 and 15\n  const assists = Math.floor(Math.random() * 10) + 1; // Random assists between 1 and 10\n\n  return {\n    playerName,\n    points,\n    rebounds,\n    assists,\n  };\n}\n\n// Define an API endpoint to get NBA player statistics\napp.get('/api/nba-stats/:playerName', (req, res) => {\n  const playerName = req.params.playerName;\n  const nbaStats = generateNBAStats(playerName);\n  res.json(nbaStats);\n});\n\napp.listen(port, () => {\n  console.log(`API server is running on http://localhost:${port}`);\n});\n",
      "text/plain": [
       "<IPython.core.display.Javascript object>"
      ]
     },
     "metadata": {},
     "output_type": "display_data"
    }
   ],
   "source": [
    "%%js\n",
    "\n",
    "// app.js\n",
    "const express = require('express');\n",
    "const app = express();\n",
    "const port = 3000; // You can choose any available port\n",
    "\n",
    "// Generate random NBA player statistics\n",
    "function generateNBAStats(playerName) {\n",
    "  const points = Math.floor(Math.random() * 30) + 1; // Random points between 1 and 30\n",
    "  const rebounds = Math.floor(Math.random() * 15) + 1; // Random rebounds between 1 and 15\n",
    "  const assists = Math.floor(Math.random() * 10) + 1; // Random assists between 1 and 10\n",
    "\n",
    "  return {\n",
    "    playerName,\n",
    "    points,\n",
    "    rebounds,\n",
    "    assists,\n",
    "  };\n",
    "}\n",
    "\n",
    "// Define an API endpoint to get NBA player statistics\n",
    "app.get('/api/nba-stats/:playerName', (req, res) => {\n",
    "  const playerName = req.params.playerName;\n",
    "  const nbaStats = generateNBAStats(playerName);\n",
    "  res.json(nbaStats);\n",
    "});\n",
    "\n",
    "app.listen(port, () => {\n",
    "  console.log(`API server is running on http://localhost:${port}`);\n",
    "});"
   ]
  },
  {
   "cell_type": "code",
   "execution_count": 2,
   "metadata": {},
   "outputs": [
    {
     "data": {
      "text/html": [
       "\n",
       "<!DOCTYPE html>\n",
       "<html lang=\"en\">\n",
       "<head>\n",
       "    <meta charset=\"UTF-8\">\n",
       "    <meta name=\"viewport\" content=\"width=device-width, initial-scale=1.0\">\n",
       "    <title>NBA Player Stats</title>\n",
       "</head>\n",
       "<body>\n",
       "    <h1>NBA Player Statistics</h1>\n",
       "    <label for=\"playerName\">Enter NBA Player Name:</label>\n",
       "    <input type=\"text\" id=\"playerName\" placeholder=\"e.g., LeBron James\">\n",
       "    <button onclick=\"fetchNBAStats()\">Fetch Stats</button>\n",
       "\n",
       "    <div id=\"stats-container\">\n",
       "        <!-- NBA player stats will be displayed here -->\n",
       "    </div>\n",
       "\n",
       "    <script>\n",
       "        async function fetchNBAStats() {\n",
       "            const playerName = document.getElementById('playerName').value;\n",
       "            const apiUrl = `http://localhost:3000/api/nba-stats/${encodeURIComponent(playerName)}`;\n",
       "\n",
       "            try {\n",
       "                const response = await fetch(apiUrl);\n",
       "\n",
       "                if (!response.ok) {\n",
       "                    throw new Error('Network response was not ok');\n",
       "                }\n",
       "\n",
       "                const data = await response.json();\n",
       "\n",
       "                // Display the NBA player stats on the webpage\n",
       "                const statsContainer = document.getElementById('stats-container');\n",
       "                statsContainer.innerHTML = `\n",
       "                    <h2>${data.playerName} Statistics:</h2>\n",
       "                    <p>Points: ${data.points}</p>\n",
       "                    <p>Rebounds: ${data.rebounds}</p>\n",
       "                    <p>Assists: ${data.assists}</p>\n",
       "                `;\n",
       "            } catch (error) {\n",
       "                console.error('Error:', error);\n",
       "            }\n",
       "        }\n",
       "    </script>\n",
       "</body>\n",
       "</html>\n"
      ],
      "text/plain": [
       "<IPython.core.display.HTML object>"
      ]
     },
     "metadata": {},
     "output_type": "display_data"
    }
   ],
   "source": [
    "%%HTML\n",
    "\n",
    "<!DOCTYPE html>\n",
    "<html lang=\"en\">\n",
    "<head>\n",
    "    <meta charset=\"UTF-8\">\n",
    "    <meta name=\"viewport\" content=\"width=device-width, initial-scale=1.0\">\n",
    "    <title>NBA Player Stats</title>\n",
    "</head>\n",
    "<body>\n",
    "    <h1>NBA Player Statistics</h1>\n",
    "    <label for=\"playerName\">Enter NBA Player Name:</label>\n",
    "    <input type=\"text\" id=\"playerName\" placeholder=\"e.g., LeBron James\">\n",
    "    <button onclick=\"fetchNBAStats()\">Fetch Stats</button>\n",
    "\n",
    "    <div id=\"stats-container\">\n",
    "        <!-- NBA player stats will be displayed here -->\n",
    "    </div>\n",
    "\n",
    "    <script>\n",
    "        async function fetchNBAStats() {\n",
    "            const playerName = document.getElementById('playerName').value;\n",
    "            const apiUrl = `http://localhost:3000/api/nba-stats/${encodeURIComponent(playerName)}`;\n",
    "\n",
    "            try {\n",
    "                const response = await fetch(apiUrl);\n",
    "\n",
    "                if (!response.ok) {\n",
    "                    throw new Error('Network response was not ok');\n",
    "                }\n",
    "\n",
    "                const data = await response.json();\n",
    "\n",
    "                // Display the NBA player stats on the webpage\n",
    "                const statsContainer = document.getElementById('stats-container');\n",
    "                statsContainer.innerHTML = `\n",
    "                    <h2>${data.playerName} Statistics:</h2>\n",
    "                    <p>Points: ${data.points}</p>\n",
    "                    <p>Rebounds: ${data.rebounds}</p>\n",
    "                    <p>Assists: ${data.assists}</p>\n",
    "                `;\n",
    "            } catch (error) {\n",
    "                console.error('Error:', error);\n",
    "            }\n",
    "        }\n",
    "    </script>\n",
    "</body>\n",
    "</html>"
   ]
  }
 ],
 "metadata": {
  "kernelspec": {
   "display_name": "Python 3",
   "language": "python",
   "name": "python3"
  },
  "language_info": {
   "codemirror_mode": {
    "name": "ipython",
    "version": 3
   },
   "file_extension": ".py",
   "mimetype": "text/x-python",
   "name": "python",
   "nbconvert_exporter": "python",
   "pygments_lexer": "ipython3",
   "version": "3.9.13"
  },
  "orig_nbformat": 4
 },
 "nbformat": 4,
 "nbformat_minor": 2
}
