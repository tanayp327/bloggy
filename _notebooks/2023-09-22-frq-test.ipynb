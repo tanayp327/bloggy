{
 "cells": [
  {
   "cell_type": "markdown",
   "metadata": {},
   "source": [
    "---\n",
    "toc: true\n",
    "comments: false\n",
    "layout: post\n",
    "title: FRQ Pop Quiz\n",
    "description: Answering 3 frqs and collaborating with our team\n",
    "type: tangibles\n",
    "courses: { csa: {week: 5} }\n",
    "---"
   ]
  },
  {
   "cell_type": "markdown",
   "metadata": {},
   "source": [
    "There is a method called `initializeKeyPad()` that takes in a 2D array and will initialize the 2D array to represent a numerical keypad:\n",
    "\n",
    "1 2 3\n",
    "4 5 6\n",
    "7 8 9\n",
    "0\n",
    "\n",
    "The method will also print the numeric pad upside-down, like this:\n",
    "\n",
    "  0 \n",
    "7 8 9\n",
    "4 5 6\n",
    "1 2 3\n",
    "\n",
    "There is another method called `reverseArray()` that generates an integer array containing the numbers from 1 to 10 in descending order. Print the array twice as initialized and reversed, like this:\n",
    "\n",
    "10 9 8 7 6 5 4 3 2 1 1 2 3 4 5 6 7 8 9 10\n",
    "\n",
    "There is final method called `intializeRandomList()` that takes in the parameters n (integer), asciiStart (integer), and x (integer). The method should generate n random integers between 0 and 32 and add them to the asciiStart character to obtain random characters. These characters should be added to an ArrayList and returned.\n",
    "\n",
    "Write the methods `initializeKeyPad(int[][] arr)`, `reverseArray()`, and `initializeRandomList()`."
   ]
  },
  {
   "cell_type": "code",
   "execution_count": 1,
   "metadata": {},
   "outputs": [
    {
     "name": "stdout",
     "output_type": "stream",
     "text": [
      "9 8 7 \n",
      "6 5 4 \n",
      "3 2 1 \n"
     ]
    },
    {
     "ename": "CompilationException",
     "evalue": "",
     "output_type": "error",
     "traceback": [
      "\u001b[1m\u001b[30m|   \u001b[1m\u001b[30mint[] reversedArray = \u001b[0m\u001b[1m\u001b[30m\u001b[41mMethods.reverseArray\u001b[0m\u001b[1m\u001b[30m();\u001b[0m",
      "\u001b[1m\u001b[31mcannot find symbol\u001b[0m",
      "\u001b[1m\u001b[31m  symbol:   method reverseArray()\u001b[0m",
      ""
     ]
    }
   ],
   "source": [
    "public class Methods {\n",
    "    public static void initializeKeyPad(int[][] arr) {\n",
    "        for (int i = 0; i < arr.length; i++) {\n",
    "          for (int j = 0; j < arr[0].length; j++) {\n",
    "            arr[i][j] = i * 3 + j + 1;\n",
    "          }\n",
    "        }\n",
    "    \n",
    "        arr[arr.length - 1][arr[0].length - 1] = 0;\n",
    "    \n",
    "        for (int i = arr.length - 2; i >= 0; i--) {\n",
    "          for (int j = arr[0].length - 1; j >= 0; j--) {\n",
    "            System.out.print(arr[i][j] + \" \");\n",
    "          }\n",
    "          System.out.println();\n",
    "        }\n",
    "    \n",
    "        arr[arr.length - 1][0] = 0;\n",
    "      }\n",
    "    }\n",
    "  \n",
    "    public static int[] reverseArray() {\n",
    "      int[] arr = new int[10];\n",
    "      for (int i = 0; i < arr.length; i++) {\n",
    "        arr[i] = i + 1;\n",
    "      }\n",
    "  \n",
    "      for (int i = 0; i < arr.length / 2; i++) {\n",
    "        int temp = arr[i];\n",
    "        arr[i] = arr[arr.length - i - 1];\n",
    "        arr[arr.length - i - 1] = temp;\n",
    "      }\n",
    "  \n",
    "      return arr;\n",
    "    }\n",
    "  \n",
    "    public static ArrayList<Character> initializeRandomList(int n, int asciiStart, int x) {\n",
    "      ArrayList<Character> randomList = new ArrayList<>();\n",
    "        Random randomGenerator = new Random(x);\n",
    "  \n",
    "      for (int i = 0; i < n; i++) {\n",
    "        randomList.add((char) (randomGenerator.nextInt(33) + asciiStart));\n",
    "      }\n",
    "  \n",
    "      return randomList;\n",
    "    }\n",
    "\n",
    "int[][] arr = new int[4][3];\n",
    "Methods.initializeKeyPad(arr);\n",
    "int[] reversedArray = Methods.reverseArray();\n",
    "ArrayList<Character> randomList = Methods.initializeRandomList(10, 65, 12345);"
   ]
  }
 ],
 "metadata": {
  "kernelspec": {
   "display_name": "Java",
   "language": "java",
   "name": "java"
  },
  "language_info": {
   "codemirror_mode": "java",
   "file_extension": ".jshell",
   "mimetype": "text/x-java-source",
   "name": "java",
   "pygments_lexer": "java",
   "version": "19.0.1+10"
  },
  "orig_nbformat": 4
 },
 "nbformat": 4,
 "nbformat_minor": 2
}
