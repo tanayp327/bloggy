{
 "cells": [
  {
   "cell_type": "markdown",
   "metadata": {},
   "source": [
    "---\n",
    "title: FRQ 2\n",
    "description: Final FRQ 2\n",
    "toc: true\n",
    "layout: notebook\n",
    "courses: { csp: {week: 24} }\n",
    "---"
   ]
  },
  {
   "cell_type": "markdown",
   "metadata": {},
   "source": [
    "Directions: SHOW ALL YOUR WORK. REMEMBER THAT PROGRAM SEGMENTS ARE TO BE WRITTEN IN JAVA.\n",
    "\n",
    "Notes:\n",
    "\n",
    "Assume that the classes listed in the Java Quick Reference have been imported where appropriate.\n",
    "\n",
    "Unless otherwise noted in the question, assume that parameters in method calls are not null and that methods are called only when their preconditions are satisfied.\n",
    "\n",
    "In writing solutions for each question, you may use any of the accessible methods that are listed in classes defined in that question. Writing significant amounts of code that can be replaced by a call to one of these methods will not receive full credit.\n",
    "\n",
    "Consider a guessing game in which a player tries to guess a hidden word. The hidden word contains only capital letters and has a length known to the player. A guess contains only capital letters and has the same length as the hidden word.\n",
    "\n",
    "After a guess is made, the player is given a hint that is based on a comparison between the hidden word and the guess. Each position in the hint contains a character that corresponds to the letter in the same position in the guess. The following rules determine the characters that appear in the hint.\n",
    "\n",
    "A table is shown with two columns titled If the letter in the guess is... on the left and the corresponding character in the hint is on the right. The first row reads also in the same position in the hidden word on the left, and the matching letter on the right. The second row reads also in the hidden word but in a different position on the left, and a plus sign on the right. The third row reads not in the hidden word on the left, and an asterisk on the right.\n",
    "\n",
    "The HiddenWord class will be used to represent the hidden word in the game. The hidden word is passed to the constructor. The class contains a method, getHint, that takes a guess and produces a hint.\n",
    "\n",
    "For example, suppose the variable puzzle is declared as follows.\n",
    "\n",
    "\n",
    "HiddenWord puzzle = new HiddenWord(\"HARPS\");\n",
    "\n",
    "The following table shows several guesses and the hints that would be produced.\n",
    "\n",
    "A table is shown with two columns titled Call to getHint on the left and String returned on the right. The first row reads puzzle dot getHint open parentheses \"AAAAA\" close parentheses on the left, and \"plus A plus plus plus\" on the right. The second row reads puzzle dot getHint open parentheses \"HELLO\" close parentheses on the left, and \"H asterisk asterisk asterisk asterisk\" on the right. The third row reads puzzle dot getHint open parentheses \"HEART\" close parentheses on the left, and \"H asterisk plus plus asterisk\" on the right. The fourth row reads puzzle dot getHint open parentheses \"HARMS\" close parentheses on the left, and \"HAR asterisk S\" on the right. The fifth row reads puzzle dot getHint open parentheses \"HARPS\" close parentheses on the left, and \"HARPS\" on the right.\n",
    "\n",
    "Write the complete HiddenWord class, including any necessary instance variables, its constructor, and the method, getHint, described above. You may assume that the length of the guess is the same as the length of the hidden word."
   ]
  },
  {
   "cell_type": "markdown",
   "metadata": {},
   "source": [
    "**FRQ Type:** Classes\n",
    "\n",
    "**Key Algorithm:**\n",
    "\n",
    "The key algorithm in the `HiddenWord` class revolves around generating hints for a guessing game based on a given guess and the hidden word. Let's analyze how this algorithm matches the FRQ type of Classes:\n",
    "\n",
    "1. **Class Structure:** The `HiddenWord` class is appropriately designed to encapsulate the functionality related to the hidden word and generating hints. It contains a constructor to initialize the hidden word and a method `getHint` to produce hints based on guesses.\n",
    "\n",
    "2. **Instance Variables:** The class maintains an instance variable `hiddenWord` to store the hidden word provided during object creation. This ensures that the hidden word is accessible within the class methods.\n",
    "\n",
    "3. **Method Implementation:** The `getHint` method implements the logic to compare a guess with the hidden word and generate hints accordingly. It traverses both strings character by character, determining if characters match or if they appear in different positions, and constructs the hint string accordingly.\n",
    "\n",
    "4. **Instance Method:** The `getHint` method is an instance method that operates on a specific instance of the `HiddenWord` class. It utilizes the instance variable `hiddenWord` to generate hints based on the provided guess."
   ]
  },
  {
   "cell_type": "code",
   "execution_count": 2,
   "metadata": {
    "vscode": {
     "languageId": "java"
    }
   },
   "outputs": [],
   "source": [
    "public class HiddenWord {\n",
    "    private String hiddenWord;\n",
    "\n",
    "    public HiddenWord(String word) {\n",
    "        hiddenWord = word;\n",
    "    }\n",
    "\n",
    "    public String getHint(String guess) {\n",
    "        StringBuilder hint = new StringBuilder();\n",
    "\n",
    "        for (int i = 0; i < guess.length(); i++) {\n",
    "            char guessChar = guess.charAt(i);\n",
    "            char hiddenChar = hiddenWord.charAt(i);\n",
    "\n",
    "            if (guessChar == hiddenChar) {\n",
    "                hint.append(guessChar);\n",
    "            } else if (hiddenWord.indexOf(guessChar) != -1) {\n",
    "                hint.append(\"+\");\n",
    "            } else {\n",
    "                hint.append(\"*\");\n",
    "            }\n",
    "        }\n",
    "\n",
    "        return hint.toString();\n",
    "    }\n",
    "}"
   ]
  },
  {
   "cell_type": "code",
   "execution_count": 1,
   "metadata": {
    "vscode": {
     "languageId": "java"
    }
   },
   "outputs": [
    {
     "name": "stdout",
     "output_type": "stream",
     "text": [
      "Guess: AAAAA -> Hint: +A+++\n",
      "Guess: HELLO -> Hint: H****\n",
      "Guess: HEART -> Hint: H*++*\n",
      "Guess: HARMS -> Hint: HAR*S\n",
      "Guess: HARPS -> Hint: HARPS\n"
     ]
    }
   ],
   "source": [
    "public class HiddenWord {\n",
    "    private String hiddenWord;\n",
    "\n",
    "    public HiddenWord(String word) {\n",
    "        hiddenWord = word;\n",
    "    }\n",
    "\n",
    "    public String getHint(String guess) {\n",
    "        StringBuilder hint = new StringBuilder();\n",
    "\n",
    "        for (int i = 0; i < guess.length(); i++) {\n",
    "            char guessChar = guess.charAt(i);\n",
    "            char hiddenChar = hiddenWord.charAt(i);\n",
    "\n",
    "            if (guessChar == hiddenChar) {\n",
    "                hint.append(guessChar);\n",
    "            } else if (hiddenWord.indexOf(guessChar) != -1) {\n",
    "                hint.append(\"+\");\n",
    "            } else {\n",
    "                hint.append(\"*\");\n",
    "            }\n",
    "        }\n",
    "\n",
    "        return hint.toString();\n",
    "    }\n",
    "\n",
    "    public static void main(String[] args) {\n",
    "        HiddenWord puzzle = new HiddenWord(\"HARPS\");\n",
    "        System.out.println(\"Guess: AAAAA -> Hint: \" + puzzle.getHint(\"AAAAA\"));\n",
    "        System.out.println(\"Guess: HELLO -> Hint: \" + puzzle.getHint(\"HELLO\"));\n",
    "        System.out.println(\"Guess: HEART -> Hint: \" + puzzle.getHint(\"HEART\"));\n",
    "        System.out.println(\"Guess: HARMS -> Hint: \" + puzzle.getHint(\"HARMS\"));\n",
    "        System.out.println(\"Guess: HARPS -> Hint: \" + puzzle.getHint(\"HARPS\"));\n",
    "    }\n",
    "}\n",
    "HiddenWord.main(null);"
   ]
  }
 ],
 "metadata": {
  "kernelspec": {
   "display_name": "Java",
   "language": "java",
   "name": "java"
  },
  "language_info": {
   "codemirror_mode": "java",
   "file_extension": ".jshell",
   "mimetype": "text/x-java-source",
   "name": "Java",
   "pygments_lexer": "java",
   "version": "19.0.1+10"
  }
 },
 "nbformat": 4,
 "nbformat_minor": 2
}
