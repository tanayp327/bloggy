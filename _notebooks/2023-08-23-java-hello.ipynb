{
 "cells": [
  {
   "cell_type": "markdown",
   "metadata": {},
   "source": [
    "---\n",
    "toc: true\n",
    "comments: true\n",
    "layout: post\n",
    "title: JS Calculator\n",
    "description: A key to development in this class is the association VSCode to a GitHub pages project.  This is where students update assignments and present work.\n",
    "type: hacks\n",
    "courses: { csa: {week: 2} }\n",
    "---"
   ]
  },
  {
   "cell_type": "code",
   "execution_count": 1,
   "metadata": {
    "vscode": {
     "languageId": "java"
    }
   },
   "outputs": [],
   "source": [
    "// Defining a Class\n",
    "class MyClass {\n",
    "    // Class fields or attributes\n",
    "    private int myField;\n",
    "\n",
    "    // Constructor without parameters\n",
    "    public MyClass() {\n",
    "        // Constructor initialization code\n",
    "        myField = 0;\n",
    "    }\n",
    "\n",
    "    // Constructor with parameter\n",
    "    public MyClass(int initialValue) {\n",
    "        // Constructor initialization code with a parameter\n",
    "        myField = initialValue;\n",
    "    }\n",
    "\n",
    "    // Method to set the value of myField\n",
    "    public void setMyField(int newValue) {\n",
    "        myField = newValue;\n",
    "    }\n",
    "\n",
    "    // Method to get the value of myField\n",
    "    public int getMyField() {\n",
    "        return myField;\n",
    "    }\n",
    "}\n",
    "\n",
    "public class Main {\n",
    "    public static void main(String[] args) {\n",
    "        // Creating an instance (object) of the class using the no-argument constructor\n",
    "        MyClass object1 = new MyClass();\n",
    "        \n",
    "        // Creating an instance (object) of the class using the constructor with a parameter\n",
    "        MyClass object2 = new MyClass(42);\n",
    "        \n",
    "        // Calling object methods\n",
    "        object1.setMyField(10); // Calling a method with a parameter to set myField\n",
    "        int value = object2.getMyField(); // Calling a method to get myField\n",
    "        \n",
    "        // Printing the values of myField\n",
    "        System.out.println(\"object1 myField: \" + object1.getMyField()); // Output: 10\n",
    "        System.out.println(\"object2 myField: \" + value); // Output: 42\n",
    "    }\n",
    "}"
   ]
  }
 ],
 "metadata": {
  "kernelspec": {
   "display_name": "Java",
   "language": "java",
   "name": "java"
  },
  "language_info": {
   "codemirror_mode": "java",
   "file_extension": ".jshell",
   "mimetype": "text/x-java-source",
   "name": "Java",
   "pygments_lexer": "java",
   "version": "19.0.1+10"
  },
  "orig_nbformat": 4
 },
 "nbformat": 4,
 "nbformat_minor": 2
}
