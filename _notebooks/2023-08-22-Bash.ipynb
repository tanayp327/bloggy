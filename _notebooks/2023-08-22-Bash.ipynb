{
 "cells": [
  {
   "cell_type": "markdown",
   "metadata": {},
   "source": [
    "---\n",
    "toc: true\n",
    "comments: true\n",
    "layout: post\n",
    "title: Linux Shell and Bash\n",
    "description: A key to development in this class is the association VSCode to a GitHub pages project.  This is where students update assignments and present work.\n",
    "type: hacks\n",
    "courses: { csa: {week: 1} }\n",
    "---"
   ]
  },
  {
   "cell_type": "code",
   "execution_count": 7,
   "metadata": {},
   "outputs": [],
   "source": [
    "%%script bash\n",
    "\n",
    "# Dependency Variables, set to match your project directories\n",
    "\n",
    "cat <<EOF > /tmp/variables.sh\n",
    "export project_dir=$HOME/vscode  # change vscode to different name to test git clone\n",
    "export project=\\$project_dir/bloggy  # change teacher to name of project from git clone\n",
    "export project_repo=\"https://github.com/tanayp327/bloggy.git\"  # change to project of choice\n",
    "EOF"
   ]
  },
  {
   "cell_type": "code",
   "execution_count": 8,
   "metadata": {},
   "outputs": [
    {
     "name": "stdout",
     "output_type": "stream",
     "text": [
      "Project dir: /Users/pankajpatel/vscode\n",
      "Project: /Users/pankajpatel/vscode/bloggy\n",
      "Repo: https://github.com/tanayp327/bloggy.git\n"
     ]
    }
   ],
   "source": [
    "%%script bash\n",
    "\n",
    "# Extract saved variables\n",
    "source /tmp/variables.sh\n",
    "\n",
    "# Output shown title and value variables\n",
    "echo \"Project dir: $project_dir\"\n",
    "echo \"Project: $project\"\n",
    "echo \"Repo: $project_repo\""
   ]
  },
  {
   "cell_type": "code",
   "execution_count": 9,
   "metadata": {},
   "outputs": [
    {
     "name": "stdout",
     "output_type": "stream",
     "text": [
      "Using conditional statement to create a project directory and project\n",
      "Directory /Users/pankajpatel/vscode exists.\n",
      "Directory /Users/pankajpatel/vscode/bloggy exists.\n"
     ]
    }
   ],
   "source": [
    "%%script bash\n",
    "\n",
    "# Extract saved variables\n",
    "source /tmp/variables.sh\n",
    "\n",
    "echo \"Using conditional statement to create a project directory and project\"\n",
    "\n",
    "cd ~    # start in home directory\n",
    "\n",
    "# Conditional block to make a project directory\n",
    "if [ ! -d $project_dir ]\n",
    "then \n",
    "    echo \"Directory $project_dir does not exists... makinng directory $project_dir\"\n",
    "    mkdir -p $project_dir\n",
    "fi\n",
    "echo \"Directory $project_dir exists.\" \n",
    "\n",
    "# Conditional block to git clone a project from project_repo\n",
    "if [ ! -d $project ]\n",
    "then\n",
    "    echo \"Directory $project does not exists... cloning $project_repo\"\n",
    "    cd $project_dir\n",
    "    git clone $project_repo\n",
    "    cd ~\n",
    "fi\n",
    "echo \"Directory $project exists.\""
   ]
  },
  {
   "cell_type": "code",
   "execution_count": 10,
   "metadata": {},
   "outputs": [
    {
     "name": "stdout",
     "output_type": "stream",
     "text": [
      "Navigate to project, then navigate to area wwhere files were cloned\n",
      "/Users/pankajpatel/vscode/bloggy\n",
      "\n",
      "list top level or root of files with project pulled from github\n",
      "Gemfile\n",
      "Gemfile.lock\n",
      "LICENSE\n",
      "Makefile\n",
      "README.md\n",
      "_config.yml\n",
      "\u001b[34m_data\u001b[m\u001b[m\n",
      "\u001b[34m_includes\u001b[m\u001b[m\n",
      "\u001b[34m_layouts\u001b[m\u001b[m\n",
      "\u001b[34m_notebooks\u001b[m\u001b[m\n",
      "\u001b[34m_posts\u001b[m\u001b[m\n",
      "\u001b[34m_site\u001b[m\u001b[m\n",
      "\u001b[34massets\u001b[m\u001b[m\n",
      "\u001b[34mimages\u001b[m\u001b[m\n",
      "index.md\n",
      "indexBlogs.md\n",
      "labnotebook.md\n",
      "\u001b[34mscripts\u001b[m\u001b[m\n"
     ]
    }
   ],
   "source": [
    "%%script bash\n",
    "\n",
    "# Extract saved variables\n",
    "source /tmp/variables.sh\n",
    "\n",
    "echo \"Navigate to project, then navigate to area wwhere files were cloned\"\n",
    "cd $project\n",
    "pwd\n",
    "\n",
    "echo \"\"\n",
    "echo \"list top level or root of files with project pulled from github\"\n",
    "ls"
   ]
  },
  {
   "cell_type": "code",
   "execution_count": 11,
   "metadata": {},
   "outputs": [
    {
     "name": "stdout",
     "output_type": "stream",
     "text": [
      "Navigate to project, then navigate to area wwhere files were cloned\n",
      "/Users/pankajpatel/vscode/bloggy\n",
      "\n",
      "list all files in long format\n",
      "total 88\n",
      "drwxr-xr-x  23 pankajpatel  staff   736 Sep  1 09:11 \u001b[34m.\u001b[m\u001b[m\n",
      "drwxr-xr-x  19 pankajpatel  staff   608 Aug 29 11:55 \u001b[34m..\u001b[m\u001b[m\n",
      "drwxr-xr-x  15 pankajpatel  staff   480 Sep  5 08:37 \u001b[34m.git\u001b[m\u001b[m\n",
      "drwxr-xr-x   3 pankajpatel  staff    96 Aug 24 22:00 \u001b[34m.github\u001b[m\u001b[m\n",
      "-rw-r--r--   1 pankajpatel  staff   104 Aug 24 22:00 .gitignore\n",
      "-rw-r--r--   1 pankajpatel  staff   122 Aug 24 22:00 Gemfile\n",
      "-rw-r--r--   1 pankajpatel  staff  7301 Aug 24 22:01 Gemfile.lock\n",
      "-rw-r--r--   1 pankajpatel  staff  1081 Aug 24 22:00 LICENSE\n",
      "-rw-r--r--   1 pankajpatel  staff  3116 Aug 24 22:00 Makefile\n",
      "-rw-r--r--   1 pankajpatel  staff   611 Sep  1 09:24 README.md\n",
      "-rw-r--r--   1 pankajpatel  staff   412 Aug 31 12:00 _config.yml\n",
      "drwxr-xr-x   6 pankajpatel  staff   192 Aug 24 22:00 \u001b[34m_data\u001b[m\u001b[m\n",
      "drwxr-xr-x   9 pankajpatel  staff   288 Aug 24 22:00 \u001b[34m_includes\u001b[m\u001b[m\n",
      "drwxr-xr-x   6 pankajpatel  staff   192 Aug 28 11:59 \u001b[34m_layouts\u001b[m\u001b[m\n",
      "drwxr-xr-x   7 pankajpatel  staff   224 Sep  1 12:03 \u001b[34m_notebooks\u001b[m\u001b[m\n",
      "drwxr-xr-x  11 pankajpatel  staff   352 Sep  1 09:14 \u001b[34m_posts\u001b[m\u001b[m\n",
      "drwxr-xr-x  16 pankajpatel  staff   512 Sep  1 11:01 \u001b[34m_site\u001b[m\u001b[m\n",
      "drwxr-xr-x   4 pankajpatel  staff   128 Aug 31 08:58 \u001b[34massets\u001b[m\u001b[m\n",
      "drwxr-xr-x   8 pankajpatel  staff   256 Aug 31 11:45 \u001b[34mimages\u001b[m\u001b[m\n",
      "-rw-r--r--   1 pankajpatel  staff   391 Aug 31 11:47 index.md\n"
     ]
    },
    {
     "name": "stdout",
     "output_type": "stream",
     "text": [
      "-rw-r--r--   1 pankajpatel  staff    53 Aug 24 22:00 indexBlogs.md\n",
      "-rw-r--r--   1 pankajpatel  staff    91 Aug 31 11:31 labnotebook.md\n",
      "drwxr-xr-x   5 pankajpatel  staff   160 Aug 24 22:00 \u001b[34mscripts\u001b[m\u001b[m\n"
     ]
    }
   ],
   "source": [
    "%%script bash\n",
    "\n",
    "# Extract saved variables\n",
    "source /tmp/variables.sh\n",
    "\n",
    "echo \"Navigate to project, then navigate to area wwhere files were cloned\"\n",
    "cd $project\n",
    "pwd\n",
    "\n",
    "echo \"\"\n",
    "echo \"list all files in long format\"\n",
    "ls -al   # all files -a (hidden) in -l long listing"
   ]
  },
  {
   "cell_type": "code",
   "execution_count": 12,
   "metadata": {},
   "outputs": [
    {
     "name": "stdout",
     "output_type": "stream",
     "text": [
      "Look for notebooks\n",
      "/Users/pankajpatel/vscode/bloggy/_notebooks\n",
      "total 128\n",
      "-rw-r--r--  1 pankajpatel  staff  29793 Sep  5 08:40 2023-08-22-Bash.ipynb\n",
      "-rw-r--r--  1 pankajpatel  staff  11419 Sep  4 20:11 2023-08-22-Console-Games.ipynb\n",
      "-rw-r--r--  1 pankajpatel  staff   4880 Aug 31 11:52 2023-08-23-Calculator.ipynb\n",
      "-rw-r--r--  1 pankajpatel  staff  10206 Sep  5 08:37 2023-08-23-java-hello.ipynb\n"
     ]
    }
   ],
   "source": [
    "%%script bash\n",
    "\n",
    "# Extract saved variables\n",
    "source /tmp/variables.sh\n",
    "\n",
    "echo \"Look for notebooks\"\n",
    "export notebooks=$project/_notebooks  # _notebooks is inside project\n",
    "cd $notebooks   # this should exist per fastpages\n",
    "pwd  # present working directory\n",
    "ls -l  # list notebooks"
   ]
  },
  {
   "cell_type": "code",
   "execution_count": 13,
   "metadata": {},
   "outputs": [
    {
     "name": "stdout",
     "output_type": "stream",
     "text": [
      "Look for images in notebooks, print working directory, list files\n",
      "/Users/pankajpatel/vscode/bloggy/_notebooks\n"
     ]
    },
    {
     "name": "stderr",
     "output_type": "stream",
     "text": [
      "bash: line 6: cd: /images: No such file or directory\n"
     ]
    },
    {
     "name": "stdout",
     "output_type": "stream",
     "text": [
      "total 120\n",
      "-rw-r--r--  1 pankajpatel  staff  26506 Sep  5 08:40 2023-08-22-Bash.ipynb\n",
      "-rw-r--r--  1 pankajpatel  staff  11419 Sep  4 20:11 2023-08-22-Console-Games.ipynb\n",
      "-rw-r--r--  1 pankajpatel  staff   4880 Aug 31 11:52 2023-08-23-Calculator.ipynb\n",
      "-rw-r--r--  1 pankajpatel  staff  10206 Sep  5 08:37 2023-08-23-java-hello.ipynb\n"
     ]
    }
   ],
   "source": [
    "%%script bash\n",
    "\n",
    "# Extract saved variables\n",
    "source /tmp/variables.sh\n",
    "\n",
    "echo \"Look for images in notebooks, print working directory, list files\"\n",
    "cd $notebooks/images  # this should exist per fastpages\n",
    "pwd\n",
    "ls -l"
   ]
  },
  {
   "cell_type": "code",
   "execution_count": 14,
   "metadata": {},
   "outputs": [
    {
     "name": "stdout",
     "output_type": "stream",
     "text": [
      "Navigate to project, then navigate to area wwhere files were cloned\n",
      "show the contents of README.md\n",
      "\n",
      "# My CSA Blog\n",
      "\n",
      "Welcome to my Tanay Patel's CSA blog! This blog is my personal space to document everything I'm learning and doing during my high school computer science class. Whether it's coding projects, lessons, or cool hacks, you'll find it all here.\n",
      "\n",
      "## Blogging My Computer Science Journey\n",
      "\n",
      "As a student passionate about computer science, I'll be sharing my experiences, challenges, and achievements on this blog. This is not only a record of my progress but also a resource for fellow students who share the same interests.\n",
      "\n",
      "### Visit my Website\n",
      "\n",
      "[tanayp327.github.io/bloggy](tanayp327.github.io/bloggy/)\n",
      "end of README.md\n"
     ]
    }
   ],
   "source": [
    "%%script bash\n",
    "\n",
    "# Extract saved variables\n",
    "source /tmp/variables.sh\n",
    "\n",
    "echo \"Navigate to project, then navigate to area wwhere files were cloned\"\n",
    "\n",
    "cd $project\n",
    "echo \"show the contents of README.md\"\n",
    "echo \"\"\n",
    "\n",
    "cat README.md  # show contents of file, in this case markdown\n",
    "echo \"\"\n",
    "echo \"end of README.md\""
   ]
  },
  {
   "cell_type": "code",
   "execution_count": 15,
   "metadata": {},
   "outputs": [
    {
     "name": "stdout",
     "output_type": "stream",
     "text": [
      "Show the shell environment variables, key on left of equal value on right\n",
      "\n",
      "VSCODE_CRASH_REPORTER_PROCESS_TYPE=extensionHost\n",
      "NVM_CD_FLAGS=-q\n",
      "GEM_HOME=/Users/pankajpatel/gems\n",
      "TERM=xterm-color\n",
      "SHELL=/bin/zsh\n",
      "CLICOLOR=1\n",
      "TMPDIR=/var/folders/yq/rjlyd8gs1fs_00jfmk7y31080000gn/T/\n",
      "CONDA_SHLVL=1\n",
      "PYTHONUNBUFFERED=1\n",
      "CONDA_PROMPT_MODIFIER=(base) \n",
      "ORIGINAL_XDG_CURRENT_DESKTOP=undefined\n",
      "MallocNanoZone=0\n",
      "PYTHONIOENCODING=utf-8\n",
      "USER=pankajpatel\n",
      "NVM_DIR=/Users/pankajpatel/.nvm\n",
      "COMMAND_MODE=unix2003\n",
      "CONDA_EXE=/opt/anaconda3/bin/conda\n",
      "SSH_AUTH_SOCK=/private/tmp/com.apple.launchd.KCyy4unAyc/Listeners\n",
      "__CF_USER_TEXT_ENCODING=0x1F5:0x0:0x0\n",
      "PAGER=cat\n",
      "ELECTRON_RUN_AS_NODE=1\n"
     ]
    },
    {
     "name": "stdout",
     "output_type": "stream",
     "text": [
      "VSCODE_AMD_ENTRYPOINT=vs/workbench/api/node/extensionHostProcess\n",
      "PATH=/usr/local/bin:/Users/pankajpatel/Library/Python/3.9/bin:/usr/local/opt/ruby/bin:/Users/pankajpatel/gems/bin:/Users/pankajpatel/.rbenv/shims:/opt/anaconda3/bin:/opt/anaconda3/condabin:/Library/Frameworks/Python.framework/Versions/3.9/bin:/Library/Frameworks/Python.framework/Versions/2.7/bin:/usr/local/bin:/usr/bin:/bin:/usr/sbin:/sbin:/usr/local/opt/ruby/bin:/Users/pankajpatel/gems/bin:/Users/pankajpatel/.rbenv/shims:/opt/anaconda3/bin:/opt/anaconda3/condabin:/Library/Frameworks/Python.framework/Versions/3.9/bin:/Library/Frameworks/Python.framework/Versions/2.7/bin:/usr/local/bin:/usr/bin:/bin:/usr/sbin:/sbin\n",
      "__CFBundleIdentifier=com.microsoft.VSCode\n",
      "CONDA_PREFIX=/opt/anaconda3\n",
      "PWD=/Users/pankajpatel/vscode/bloggy/_notebooks\n",
      "VSCODE_HANDLES_UNCAUGHT_ERRORS=true\n",
      "MPLBACKEND=module://matplotlib_inline.backend_inline\n",
      "XPC_FLAGS=0x0\n",
      "FORCE_COLOR=1\n",
      "RBENV_SHELL=zsh\n",
      "XPC_SERVICE_NAME=0\n",
      "SHLVL=1\n",
      "HOME=/Users/pankajpatel\n",
      "APPLICATION_INSIGHTS_NO_DIAGNOSTIC_CHANNEL=1\n",
      "VSCODE_NLS_CONFIG={\"locale\":\"en-us\",\"osLocale\":\"en-us\",\"availableLanguages\":{},\"_languagePackSupport\":true}\n",
      "PYDEVD_IPYTHON_COMPATIBLE_DEBUGGING=1\n",
      "LOGNAME=pankajpatel\n",
      "CONDA_PYTHON_EXE=/opt/anaconda3/bin/python\n",
      "LC_CTYPE=UTF-8\n",
      "VSCODE_IPC_HOOK=/Users/pankajpatel/Library/Application Support/Code/1.81-main.sock\n",
      "VSCODE_CODE_CACHE_PATH=/Users/pankajpatel/Library/Application Support/Code/CachedData/6c3e3dba23e8fadc360aed75ce363ba185c49794\n",
      "CLICOLOR_FORCE=1\n",
      "CONDA_DEFAULT_ENV=base\n",
      "VSCODE_PID=8638\n",
      "GIT_PAGER=cat\n",
      "VSCODE_L10N_BUNDLE_LOCATION=\n",
      "VSCODE_CWD=/\n",
      "_=/usr/bin/env\n"
     ]
    }
   ],
   "source": [
    "%%script bash\n",
    "\n",
    "# This command has no dependencies\n",
    "\n",
    "echo \"Show the shell environment variables, key on left of equal value on right\"\n",
    "echo \"\"\n",
    "\n",
    "env"
   ]
  },
  {
   "cell_type": "code",
   "execution_count": 16,
   "metadata": {},
   "outputs": [
    {
     "name": "stdout",
     "output_type": "stream",
     "text": [
      "\n",
      "show the secrets of .git\n",
      "total 72\n",
      "-rw-r--r--    1 pankajpatel  staff    22 Sep  5 08:37 COMMIT_EDITMSG\n",
      "-rw-r--r--    1 pankajpatel  staff    95 Sep  5 08:37 FETCH_HEAD\n",
      "-rw-r--r--    1 pankajpatel  staff    21 Aug 24 22:00 HEAD\n"
     ]
    },
    {
     "name": "stdout",
     "output_type": "stream",
     "text": [
      "-rw-r--r--    1 pankajpatel  staff    41 Sep  5 08:37 ORIG_HEAD\n",
      "-rw-r--r--    1 pankajpatel  staff   305 Aug 24 22:00 config\n",
      "-rw-r--r--    1 pankajpatel  staff    73 Aug 24 22:00 description\n",
      "drwxr-xr-x   15 pankajpatel  staff   480 Aug 24 22:00 \u001b[34mhooks\u001b[m\u001b[m\n",
      "-rw-r--r--    1 pankajpatel  staff  5355 Sep  5 08:37 index\n",
      "drwxr-xr-x    3 pankajpatel  staff    96 Aug 24 22:00 \u001b[34minfo\u001b[m\u001b[m\n",
      "drwxr-xr-x    4 pankajpatel  staff   128 Aug 24 22:00 \u001b[34mlogs\u001b[m\u001b[m\n",
      "drwxr-xr-x  104 pankajpatel  staff  3328 Sep  5 08:37 \u001b[34mobjects\u001b[m\u001b[m\n",
      "-rw-r--r--    1 pankajpatel  staff   112 Aug 24 22:00 packed-refs\n",
      "drwxr-xr-x    5 pankajpatel  staff   160 Aug 24 22:00 \u001b[34mrefs\u001b[m\u001b[m\n",
      "\n",
      "look at config file\n",
      "[core]\n",
      "\trepositoryformatversion = 0\n",
      "\tfilemode = true\n",
      "\tbare = false\n",
      "\tlogallrefupdates = true\n",
      "\tignorecase = true\n",
      "\tprecomposeunicode = true\n",
      "[remote \"origin\"]\n",
      "\turl = https://github.com/tanayp327/bloggy.git\n",
      "\tfetch = +refs/heads/*:refs/remotes/origin/*\n",
      "[branch \"main\"]\n",
      "\tremote = origin\n",
      "\tmerge = refs/heads/main\n"
     ]
    }
   ],
   "source": [
    "%%script bash\n",
    "\n",
    "# Extract saved variables\n",
    "source /tmp/variables.sh\n",
    "\n",
    "cd $project\n",
    "\n",
    "echo \"\"\n",
    "echo \"show the secrets of .git\"\n",
    "cd .git\n",
    "ls -l\n",
    "\n",
    "echo \"\"\n",
    "echo \"look at config file\"\n",
    "cat config"
   ]
  },
  {
   "cell_type": "code",
   "execution_count": 17,
   "metadata": {},
   "outputs": [
    {
     "name": "stdout",
     "output_type": "stream",
     "text": [
      "\n",
      "File listing and status\n",
      "-rw-r--r--  1 pankajpatel  wheel  809 Sep  5 08:41 sample.md\n",
      "      15     132     809 sample.md\n"
     ]
    },
    {
     "name": "stderr",
     "output_type": "stream",
     "text": [
      "bash: line 30: mdless: command not found\n"
     ]
    }
   ],
   "source": [
    "%%script bash\n",
    "\n",
    "# This example has error in VSCode, it run best on Jupyter\n",
    "cd /tmp\n",
    "\n",
    "file=\"sample.md\"\n",
    "if [ -f \"$file\" ]; then\n",
    "    rm $file\n",
    "fi\n",
    "\n",
    "tee -a $file >/dev/null <<EOF\n",
    "# Show Generated Markdown\n",
    "This introductory paragraph and this line and the title above are generated using tee with the standard input (<<) redirection operator.\n",
    "- This bulleted element is still part of the tee body.\n",
    "EOF\n",
    "\n",
    "echo \"- This bulleted element and lines below are generated using echo with standard output (>>) redirection operator.\" >> $file\n",
    "echo \"- The list definition, as is, is using space to seperate lines.  Thus the use of commas and hyphens in output.\" >> $file\n",
    "actions=(\"ls,list-directory\" \"cd,change-directory\" \"pwd,present-working-directory\" \"if-then-fi,test-condition\" \"env,bash-environment-variables\" \"cat,view-file-contents\" \"tee,write-to-output\" \"echo,display-content-of-string\" \"echo_text_>\\$file,write-content-to-file\" \"echo_text_>>\\$file,append-content-to-file\")\n",
    "for action in ${actions[@]}; do  # for loop is very similar to other language, though [@], semi-colon, do are new\n",
    "  action=${action//-/ }  # convert dash to space\n",
    "  action=${action//,/: } # convert comma to colon\n",
    "  action=${action//_text_/ \\\"sample text\\\" } # convert _text_ to sample text, note escape character \\ to avoid \"\" having meaning\n",
    "  echo \"    - ${action//-/ }\" >> $file  # echo is redirected to file with >>\n",
    "done\n",
    "\n",
    "echo \"\"\n",
    "echo \"File listing and status\"\n",
    "ls -l $file # list file\n",
    "wc $file   # show words\n",
    "mdless $file  # this requires installation, but renders markown from terminal\n",
    "\n",
    "rm $file  # clean up termporary file"
   ]
  },
  {
   "cell_type": "markdown",
   "metadata": {},
   "source": [
    "## Frequent Linux Commands\n",
    "\n",
    "1. **ls**: List files and directories in the current directory.\n",
    "\n",
    "2. **pwd**: Print the working directory, showing the current directory's path.\n",
    "\n",
    "3. **cd**: Change the current directory. Use `cd [directory]` to navigate to a specific directory.\n",
    "\n",
    "4. **mkdir**: Create a new directory. For example, `mkdir my_folder` creates a folder named \"my_folder.\"\n",
    "\n",
    "5. **rm**: Remove files or directories. Use `rm [file]` to delete a file or `rm -r [directory]` to delete a directory and its contents.\n",
    "\n",
    "6. **chmod**: Change file permissions. It's used to modify read, write, and execute permissions on files and directories.\n",
    "\n",
    "7. **ps**: Display information about running processes. Use `ps aux` to see a list of all processes or `ps -ef` for a similar output.\n",
    "\n",
    "8. **top**: Display a dynamic, real-time system performance summary. Use it to monitor processes, CPU usage, and memory.\n",
    "\n",
    "9. **wget**: Download files from the internet. For example, `wget [URL]` will download the file specified by the URL to the current directory."
   ]
  },
  {
   "cell_type": "markdown",
   "metadata": {},
   "source": [
    "## Verify and Update\n",
    "\n",
    "To verify tools and review their versions, you can use this:\n",
    "\n",
    "1. **Tool-Specific Commands**:\n",
    "   - Some tools provide specific commands to check their version. For example, `java -version` for Java or `python --version` for Python.\n",
    "\n",
    "## Updating a Git Repository via Command Line\n",
    "\n",
    "To update a Git repository from the command line, follow these steps:\n",
    "\n",
    "1. **Fetch Updates from the Remote Repository**:\n",
    "   - Fetch changes from the remote repository without merging them into your current branch:\n",
    "     ```bash\n",
    "     git fetch origin\n",
    "     ```\n",
    "\n",
    "2. **Push Changes**:\n",
    "   - If you've made local changes and want to push them to the remote repository, use `git push`.\n",
    "     ```bash\n",
    "     git push origin main\n",
    "     ```"
   ]
  }
 ],
 "metadata": {
  "kernelspec": {
   "display_name": "Python 3",
   "language": "python",
   "name": "python3"
  },
  "language_info": {
   "codemirror_mode": {
    "name": "ipython",
    "version": 3
   },
   "file_extension": ".py",
   "mimetype": "text/x-python",
   "name": "python",
   "nbconvert_exporter": "python",
   "pygments_lexer": "ipython3",
   "version": "3.9.13"
  },
  "orig_nbformat": 4
 },
 "nbformat": 4,
 "nbformat_minor": 2
}
