{
 "cells": [
  {
   "cell_type": "markdown",
   "metadata": {},
   "source": [
    "# FRQ Mini-Lab\n",
    "\n",
    "- toc: true\n",
    "- comments: false\n",
    "- layout: post\n",
    "- title: FRQ Mini-Lab\n",
    "- description: Answering one of the questions from the APCSA 2023 Exam\n",
    "- type: tangibles\n",
    "- courses: { csa: {week: 4} }\n",
    "- permalink: /frq-mini-lab"
   ]
  },
  {
   "cell_type": "markdown",
   "metadata": {},
   "source": [
    "### Question\n",
    "\n",
    "**(a)** Write the `moveCandyToFirstRow` method, which attempts to ensure that the box element at row 0 and column `col` contains a piece of candy, using the following steps:\n",
    "\n",
    "- If the element at row 0 and column `col` already contains a piece of candy, then `box` is unchanged, and the method returns `true`.\n",
    "- If the element at row 0 and column `col` does not contain a piece of candy, then the method searches the remaining rows of column `col` for a piece of candy. If a piece of candy can be found in column `col`, it is moved to row 0, its previous location is set to `null`, and the method returns `true`; otherwise, the method returns `false`.\n",
    "\n",
    "In the following example, the grid represents the contents of `box`. An empty square in the grid is `null` in `box`. A non-empty square in the grid represents a box element that contains a `Candy` object. The string in the square of the grid indicates the flavor of the piece of candy.\n",
    "\n",
    "The method call `moveCandyToFirstRow(0)` returns `false` because the box element at row 0 and column 0 does not contain a piece of candy, and there are no pieces of candy in column 0 that can be moved to row 0. The contents of `box` are unchanged.\n",
    "\n",
    "The method call `moveCandyToFirstRow(1)` returns `true` because the box element at row 0 and column 1 already contains a piece of candy. The contents of `box` are unchanged.\n",
    "\n",
    "The method call `moveCandyToFirstRow(2)` moves one of the two pieces of candy in column 2 to row 0 of column 2, sets the previous location of the piece of candy that was moved to `null`, and returns `true`. The new contents of `box` could be either of the following.\n",
    "\n",
    "Complete the `moveCandyToFirstRow` method."
   ]
  },
  {
   "cell_type": "code",
   "execution_count": 2,
   "metadata": {},
   "outputs": [],
   "source": [
    "/**\n",
    " * Moves one piece of candy in column col, if necessary and possible, so that the box\n",
    " * element in row 0 of column col contains a piece of candy, as described in part (a).\n",
    " * Returns false if there is no piece of candy in column col and returns true otherwise.\n",
    " * Precondition: col is a valid column index in box.\n",
    " */\n",
    "public boolean moveCandyToFirstRow(int col) {\n",
    "    /* to be implemented in part (a) */\n",
    "    return false;\n",
    "}"
   ]
  },
  {
   "cell_type": "markdown",
   "metadata": {},
   "source": [
    "\n",
    "\n",
    "**(b)** Write the `removeNextByFlavor` method, which attempts to remove and return one piece of candy from the box. The piece of candy to be removed is the first piece of candy with a flavor equal to the parameter `flavor` that is encountered while traversing the candy box in the following order: the last row of the box is traversed from left to right, then the next-to-last row of the box is traversed from left to right, etc., until either a piece of candy with the desired flavor is found or until the entire candy box has been searched. If the `removeNextByFlavor` method finds a `Candy` object with the desired flavor, the corresponding box element is assigned `null`, all other box elements are unchanged, and the removed `Candy` object is returned. Otherwise, `box` is unchanged, and the method returns `null`.\n",
    "\n",
    "The following examples show three consecutive calls to the `removeNextByFlavor` method. The traversal of the candy box always begins in the last row and first column of the box.\n",
    "\n",
    "The following grid shows the contents of `box` before any of the `removeNextByFlavor` method calls.\n",
    "\n",
    "The method call `removeNextByFlavor(\"cherry\")` removes and returns the `Candy` object located in row 2 and column 0. The following grid shows the updated contents of `box`.\n",
    "\n",
    "The method call `removeNextByFlavor(\"lime\")` removes and returns the `Candy` object located in row 1 and column 3. The following grid shows the updated contents of `box`.\n",
    "\n",
    "The method call `removeNextByFlavor(\"grape\")` returns `null` because no grape-flavored candy is found. The contents of `box` are unchanged.\n",
    "\n",
    "Complete the `removeNextByFlavor` method."
   ]
  },
  {
   "cell_type": "code",
   "execution_count": 5,
   "metadata": {},
   "outputs": [],
   "source": [
    "/**\n",
    " * Removes from box and returns a piece of candy with flavor specified by the parameter, or\n",
    " * returns null if no such piece is found, as described in part (b).\n",
    " */\n",
    "public Candy removeNextByFlavor(String flavor) {\n",
    "    /* to be implemented in part (b) */\n",
    "    \n",
    "}"
   ]
  },
  {
   "cell_type": "markdown",
   "metadata": {},
   "source": [
    "Tanay's solution:"
   ]
  },
  {
   "cell_type": "code",
   "execution_count": 7,
   "metadata": {},
   "outputs": [
    {
     "name": "stdout",
     "output_type": "stream",
     "text": [
      "moveCandyToFirstRow(0): true\n",
      "moveCandyToFirstRow(1): true\n",
      "moveCandyToFirstRow(2): true\n",
      "removeNextByFlavor(\"cherry\"): cherry\n",
      "removeNextByFlavor(\"lime\"): lime\n",
      "removeNextByFlavor(\"grape\"): REPL.$JShell$14$Candy@316fbe9e\n"
     ]
    }
   ],
   "source": [
    "public class Candy {\n",
    "    private String flavor;\n",
    "\n",
    "    public Candy(String flavor) {\n",
    "        this.flavor = flavor;\n",
    "    }\n",
    "\n",
    "    public String getFlavor() {\n",
    "        return flavor;\n",
    "    }\n",
    "}\n",
    "\n",
    "public class BoxOfCandy {\n",
    "    private Candy[][] box;\n",
    "\n",
    "    public BoxOfCandy(Candy[][] box) {\n",
    "        this.box = box;\n",
    "    }\n",
    "\n",
    "    public boolean moveCandyToFirstRow(int col) {\n",
    "        if (col < 0 || col >= box[0].length) {\n",
    "            return false; // Invalid column index\n",
    "        }\n",
    "\n",
    "        if (box[0][col] != null) {\n",
    "            return true; // Candy already in row 0\n",
    "        }\n",
    "\n",
    "        // Search for candy in the column and move it to row 0\n",
    "        for (int row = 1; row < box.length; row++) {\n",
    "            if (box[row][col] != null) {\n",
    "                box[0][col] = box[row][col];\n",
    "                box[row][col] = null;\n",
    "                return true;\n",
    "            }\n",
    "        }\n",
    "\n",
    "        return false; // No candy found in the column\n",
    "    }\n",
    "\n",
    "    public Candy removeNextByFlavor(String flavor) {\n",
    "        for (int row = box.length - 1; row >= 0; row--) {\n",
    "            for (int col = 0; col < box[0].length; col++) {\n",
    "                if (box[row][col] != null && box[row][col].getFlavor().equals(flavor)) {\n",
    "                    Candy candyToRemove = box[row][col];\n",
    "                    box[row][col] = null;\n",
    "                    return candyToRemove;\n",
    "                }\n",
    "            }\n",
    "        }\n",
    "\n",
    "        return null; // No candy with the specified flavor found\n",
    "    }\n",
    "\n",
    "    // Other methods and constructors can be added here if needed\n",
    "}\n",
    "\n",
    "public class CandyBoxTester {\n",
    "    public static void main(String[] args) {\n",
    "        // Create a 3x4 box of candy for testing\n",
    "        Candy[][] candyGrid = {\n",
    "            {new Candy(\"chocolate\"), null, new Candy(\"cherry\"), null},\n",
    "            {null, new Candy(\"strawberry\"), null, new Candy(\"lime\")},\n",
    "            {new Candy(\"grape\"), new Candy(\"cherry\"), new Candy(\"cherry\"), null}\n",
    "        };\n",
    "\n",
    "        BoxOfCandy candyBox = new BoxOfCandy(candyGrid);\n",
    "\n",
    "        // Test moveCandyToFirstRow\n",
    "        System.out.println(\"moveCandyToFirstRow(0): \" + candyBox.moveCandyToFirstRow(0));\n",
    "        System.out.println(\"moveCandyToFirstRow(1): \" + candyBox.moveCandyToFirstRow(1));\n",
    "        System.out.println(\"moveCandyToFirstRow(2): \" + candyBox.moveCandyToFirstRow(2));\n",
    "\n",
    "        // Test removeNextByFlavor\n",
    "        System.out.println(\"removeNextByFlavor(\\\"cherry\\\"): \" + candyBox.removeNextByFlavor(\"cherry\").getFlavor());\n",
    "        System.out.println(\"removeNextByFlavor(\\\"lime\\\"): \" + candyBox.removeNextByFlavor(\"lime\").getFlavor());\n",
    "        System.out.println(\"removeNextByFlavor(\\\"grape\\\"): \" + candyBox.removeNextByFlavor(\"grape\"));\n",
    "    }\n",
    "}\n",
    "CandyBoxTester.main(null);"
   ]
  }
 ],
 "metadata": {
  "kernelspec": {
   "display_name": "Java",
   "language": "java",
   "name": "java"
  },
  "language_info": {
   "codemirror_mode": "java",
   "file_extension": ".jshell",
   "mimetype": "text/x-java-source",
   "name": "java",
   "pygments_lexer": "java",
   "version": "17.0.8+7-Ubuntu-120.04.2"
  },
  "orig_nbformat": 4
 },
 "nbformat": 4,
 "nbformat_minor": 2
}
