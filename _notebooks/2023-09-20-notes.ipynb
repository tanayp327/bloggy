{
 "cells": [
  {
   "cell_type": "markdown",
   "metadata": {},
   "source": []
  },
  {
   "cell_type": "markdown",
   "metadata": {},
   "source": [
    "# Rohin Notes\n",
    "\n",
    "- methods and Control Structures\n",
    "- Defining methods and return types\n",
    "- Control Structures\n",
    "     - Conditionals and loops\n",
    "- Accessing variables\n",
    "- Recursion\n",
    "     - recursive calls\n",
    "- Apply conditionals, define and call methods \n",
    "\n",
    "### 2022 FRQ\n",
    "\n",
    "- GetPoints method returns score for recently played game (Bonus functionality)\n",
    "     - Conditional checks for if the levels are reached and adds up points and uses multiplier\n",
    "- Play many times\n",
    "     - Adds point values "
   ]
  },
  {
   "cell_type": "markdown",
   "metadata": {},
   "source": [
    "# Vishnu Notes\n",
    "\n",
    "### 2021 Problem 4\n",
    "\n",
    "- If the row has no 0s then return true\n",
    "- If it has zeroes then return false\n",
    "- Loop through each row and search for zero\n",
    "- Counts number of non zero rows\n",
    "- takes in 2d array and counts the rows that have zeroes\n",
    "- If the row has all non zero elements, add it to new array"
   ]
  },
  {
   "cell_type": "markdown",
   "metadata": {},
   "source": [
    "# Akshat Notes\n",
    "\n",
    "# FRQ 2022 #2\n",
    "- textbook class was subclass of book and has additional attribute\n",
    "- used the super keyword to call the constructor of the book class and set the title and price attributes\n",
    "- added condition to chekc if the titles of the two textbooks"
   ]
  },
  {
   "cell_type": "markdown",
   "metadata": {},
   "source": [
    "# Vardaan Notes\n",
    "\n",
    "# FRQ 2023 3\n",
    "- look for the highest number element\n",
    "- "
   ]
  }
 ],
 "metadata": {
  "language_info": {
   "name": "python"
  },
  "orig_nbformat": 4
 },
 "nbformat": 4,
 "nbformat_minor": 2
}
