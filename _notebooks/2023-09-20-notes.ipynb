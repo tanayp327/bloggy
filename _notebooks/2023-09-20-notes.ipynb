{
 "cells": [
  {
   "cell_type": "markdown",
   "metadata": {},
   "source": [
    "---\n",
    "toc: true\n",
    "comments: false\n",
    "layout: post\n",
    "title: FRQ Mini-Lab Notes\n",
    "description: Taking Notes on Crossover Team's Presentation\n",
    "type: tangibles\n",
    "courses: { csa: {week: 4} }\n",
    "---"
   ]
  },
  {
   "cell_type": "markdown",
   "metadata": {},
   "source": [
    "# Rohin Notes\n",
    "\n",
    "- methods and Control Structures\n",
    "- Defining methods and return types\n",
    "- Control Structures\n",
    "     - Conditionals and loops\n",
    "- Accessing variables\n",
    "- Recursion\n",
    "     - recursive calls\n",
    "- Apply conditionals, define and call methods \n",
    "\n",
    "### 2022 FRQ\n",
    "\n",
    "- GetPoints method returns score for recently played game (Bonus functionality)\n",
    "     - Conditional checks for if the levels are reached and adds up points and uses multiplier\n",
    "- Play many times\n",
    "     - Adds point values \n",
    "\n",
    "0.85/1 because of very long presentation (about 5 minutes)\n",
    "1/1 if length is acceptable"
   ]
  },
  {
   "cell_type": "markdown",
   "metadata": {},
   "source": [
    "# Vishnu Notes\n",
    "\n",
    "### 2021 Problem 4\n",
    "\n",
    "- **Method isNonZeroRow:**\n",
    "     - Parameters: array2D (a 2D integer array), r (an integer representing the row index)\n",
    "     - Functionality:\n",
    "         - Checks if a specific row (r) in the 2D array has any zero elements.\n",
    "         - It iterates over the elements of the specified row and returns true if all elements are non-zero, and false otherwise.\n",
    "- **Method resize:**\n",
    "     - Parameters: array2D (a 2D integer array)\n",
    "     - Return Type: 2D integer array\n",
    "     - Functionality:\n",
    "         - Creates a new 2D array that contains only the rows from array2D that have all non-zero elements.\n",
    "         - Calls numNonZeroRows to get the number of rows with all non-zero elements.\n",
    "         - Creates a new 2D array resizedArray with the size of non-zero rows.\n",
    "         - Iterates through array2D, checks each row using isNonZeroRow, and adds rows with all non-zero elements to resizedArray.\n",
    "         - Returns the resulting resizedArray.\n",
    "\n",
    "### Feedback\n",
    "\n",
    "- Since me and Vishnu both went over 2d arrays, we decided to collabarate and give each other feedback\n",
    "- These are some questions Vishnu asked me to give me feedback: How does the representation of candies in a 2D array compare to real-world scenarios where grid-like structures are used, such as board games or seating arrangements? In the removeNextByFlavor method, the traversal starts from the last row. How would the method change if the traversal started from the first row? Further Exploration: How can the current implementation be extended to handle more complex scenarios, such as having multiple flavors or adding functionalities like sorting candies based on flavors? \n",
    "     - The 2D array representation of candies resembles real-world scenarios because its simple showing a box of candy with rows and columns and pieces of candies within a square of the grid.\n",
    "     - In the removeNextByFlavor method, if traversal started from the first row a different behavior in terms of which candy with the specified flavor is removed first, potentially prioritizing candies in the top rows.\n",
    "     - Implement sorting algorithms like bubble sort, quicksort, or merge sort to rearrange the candies based on their flavors. Maybe allow the user to put all the types of certain candy in a certain row/column.\n",
    "     - To add functionalities for more complex scenarios I could introduce a mapping of flavors to colors or types, adding more to the candy properties and sort based off of these properties as well\n",
    "- Here is some of the feedback I gave Vishnu: Your code is very close to the canonical solution, so there isn't much to change. I would just add the functionalities such as using additional data types, not just integers. You could also add a method to resize the 2D array to contain only the rows with all elements that are in a certain order, such as ascending or descending order.\n",
    "You could also implement more user interaction, such as the user inputting their own 2D array, and then resizing it based on certain values they want to filter out. If you do that, a change to an existing methods that I would like to see is handling null or faulty inputs."
   ]
  },
  {
   "cell_type": "markdown",
   "metadata": {},
   "source": [
    "# Akshat Notes\n",
    "\n",
    "### FRQ 2022 #2\n",
    "- **Textbook Class (subclass of Book):**\n",
    "     - Inherits from the Book class.\n",
    "     - Additional attribute: edition (int)\n",
    "     - Constructor: Takes title, price, and edition as parameters, calls the superclass constructor, and initializes the edition.\n",
    "    - Methods:\n",
    "         - getEdition(): Returns the edition of the textbook.\n",
    "         - getBookInfo(): Overrides the superclass method to include edition information.\n",
    "         - canSubstituteFor(Textbook other): Compares title and edition to check if the current textbook can substitute another.\n",
    "- **Main Method:**\n",
    "     - Creates instances of Textbook.\n",
    "     - Calls methods to display book information and check if one textbook can substitute for another."
   ]
  },
  {
   "cell_type": "markdown",
   "metadata": {},
   "source": [
    "# Vardaan Notes\n",
    "\n",
    "### FRQ 2023 3\n",
    "- **Part A**\n",
    "     - The attempt starts the loop to iterate through the temperatures list but has a missing condition in the for loop declaration (the loop doesn't have an increment statement).\n",
    "     - The correct code iterates through the temperatures ArrayList in reverse order to safely remove elements while maintaining the order of remaining values.\n",
    "     - It correctly checks if each temperature is outside the specified range [lower, upper].\n",
    "- **Part B**\n",
    "     - The attempt starts with the correct approach of iterating through the temperatures list and counting consecutive days above the threshold.\n",
    "     - However, the return statement is inside the loop, causing the method to return after the first day above the threshold, which is incorrect.\n",
    "     - The correct code  initializes and updates thevariables to keep track of the current heat wave length and the maximum observed heat wave length.\n",
    "     - It iterates through the array of temperatures, incrementing the heat wave length for each day above the threshold and resetting it to zero for days below the threshold."
   ]
  }
 ],
 "metadata": {
  "language_info": {
   "name": "python"
  },
  "orig_nbformat": 4
 },
 "nbformat": 4,
 "nbformat_minor": 2
}
