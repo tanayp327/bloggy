{
 "cells": [
  {
   "cell_type": "markdown",
   "metadata": {},
   "source": [
    "---\n",
    "toc: true\n",
    "comments: false\n",
    "layout: post\n",
    "title: FRQ Mini-Lab Notes\n",
    "description: Taking Notes on Crossover Team's Presentation\n",
    "type: tangibles\n",
    "courses: { csa: {week: 4} }\n",
    "---"
   ]
  },
  {
   "cell_type": "markdown",
   "metadata": {},
   "source": [
    "# Rohin Notes\n",
    "\n",
    "- methods and Control Structures\n",
    "- Defining methods and return types\n",
    "- Control Structures\n",
    "     - Conditionals and loops\n",
    "- Accessing variables\n",
    "- Recursion\n",
    "     - recursive calls\n",
    "- Apply conditionals, define and call methods \n",
    "\n",
    "### 2022 FRQ\n",
    "\n",
    "- GetPoints method returns score for recently played game (Bonus functionality)\n",
    "     - Conditional checks for if the levels are reached and adds up points and uses multiplier\n",
    "- Play many times\n",
    "     - Adds point values \n",
    "\n",
    "0.8/1 because of very long presentation (about 5 minutes)\n",
    "1/1 if length is acceptable"
   ]
  },
  {
   "cell_type": "markdown",
   "metadata": {},
   "source": [
    "# Vishnu Notes\n",
    "\n",
    "### 2021 Problem 4\n",
    "\n",
    "- If the row has no 0s then return true\n",
    "- If it has zeroes then return false\n",
    "- Loop through each row and search for zero\n",
    "- Counts number of non zero rows\n",
    "- takes in 2d array and counts the rows that have zeroes\n",
    "- If the row has all non zero elements, add it to new array\n",
    "\n",
    "## Feedback\n",
    "\n",
    "- Since me and Vishnu both went over 2d arrays, we decided to collabarate and give each other feedback\n",
    "- I would recommend that you "
   ]
  },
  {
   "cell_type": "markdown",
   "metadata": {},
   "source": [
    "# Akshat Notes\n",
    "\n",
    "# FRQ 2022 #2\n",
    "- textbook class was subclass of book and has additional attribute\n",
    "- used the super keyword to call the constructor of the book class and set the title and price attributes\n",
    "- added condition to chekc if the titles of the two textbooks"
   ]
  },
  {
   "cell_type": "markdown",
   "metadata": {},
   "source": [
    "# Vardaan Notes\n",
    "\n",
    "# FRQ 2023 3\n",
    "- look for the highest number element\n",
    "- "
   ]
  }
 ],
 "metadata": {
  "language_info": {
   "name": "python"
  },
  "orig_nbformat": 4
 },
 "nbformat": 4,
 "nbformat_minor": 2
}
