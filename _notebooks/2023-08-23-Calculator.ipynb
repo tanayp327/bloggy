{
 "cells": [
  {
   "cell_type": "markdown",
   "metadata": {},
   "source": [
    "---\n",
    "toc: true\n",
    "comments: true\n",
    "layout: post\n",
    "title: JS Calculator\n",
    "description: A key to development in this class is the association VSCode to a GitHub pages project.  This is where students update assignments and present work.\n",
    "type: hacks\n",
    "courses: { csa: {week: 1} }\n",
    "---"
   ]
  },
  {
   "cell_type": "code",
   "execution_count": 1,
   "metadata": {
    "vscode": {
     "languageId": "javascript"
    }
   },
   "outputs": [
    {
     "data": {
      "text/html": [
       "\n",
       "<div>\n",
       "  <input type=\"text\" id=\"display\" disabled>\n",
       "  <br>\n",
       "  <button onclick=\"appendToDisplay('1')\">1</button>\n",
       "  <button onclick=\"appendToDisplay('2')\">2</button>\n",
       "  <button onclick=\"appendToDisplay('3')\">3</button>\n",
       "  <button onclick=\"appendToDisplay('+')\">+</button>\n",
       "  <br>\n",
       "  <button onclick=\"appendToDisplay('4')\">4</button>\n",
       "  <button onclick=\"appendToDisplay('5')\">5</button>\n",
       "  <button onclick=\"appendToDisplay('6')\">6</button>\n",
       "  <button onclick=\"appendToDisplay('-')\">-</button>\n",
       "  <br>\n",
       "  <button onclick=\"appendToDisplay('7')\">7</button>\n",
       "  <button onclick=\"appendToDisplay('8')\">8</button>\n",
       "  <button onclick=\"appendToDisplay('9')\">9</button>\n",
       "  <button onclick=\"appendToDisplay('*')\">*</button>\n",
       "  <br>\n",
       "  <button onclick=\"appendToDisplay('0')\">0</button>\n",
       "  <button onclick=\"clearDisplay()\">C</button>\n",
       "  <button onclick=\"calculate()\">=</button>\n",
       "  <button onclick=\"appendToDisplay('/')\">/</button>\n",
       "</div>\n",
       "<script>\n",
       "  function appendToDisplay(value) {\n",
       "    document.getElementById(\"display\").value += value;\n",
       "  }\n",
       "\n",
       "  function clearDisplay() {\n",
       "    document.getElementById(\"display\").value = \"\";\n",
       "  }\n",
       "\n",
       "  function calculate() {\n",
       "    try {\n",
       "      document.getElementById(\"display\").value = eval(document.getElementById(\"display\").value);\n",
       "    } catch (error) {\n",
       "      document.getElementById(\"display\").value = \"Error\";\n",
       "    }\n",
       "  }\n",
       "</script>\n"
      ],
      "text/plain": [
       "<IPython.core.display.HTML object>"
      ]
     },
     "metadata": {},
     "output_type": "display_data"
    }
   ],
   "source": [
    "%%html\n",
    "\n",
    "<div>\n",
    "  <input type=\"text\" id=\"display\" disabled>\n",
    "  <br>\n",
    "  <button onclick=\"appendToDisplay('1')\">1</button>\n",
    "  <button onclick=\"appendToDisplay('2')\">2</button>\n",
    "  <button onclick=\"appendToDisplay('3')\">3</button>\n",
    "  <button onclick=\"appendToDisplay('+')\">+</button>\n",
    "  <br>\n",
    "  <button onclick=\"appendToDisplay('4')\">4</button>\n",
    "  <button onclick=\"appendToDisplay('5')\">5</button>\n",
    "  <button onclick=\"appendToDisplay('6')\">6</button>\n",
    "  <button onclick=\"appendToDisplay('-')\">-</button>\n",
    "  <br>\n",
    "  <button onclick=\"appendToDisplay('7')\">7</button>\n",
    "  <button onclick=\"appendToDisplay('8')\">8</button>\n",
    "  <button onclick=\"appendToDisplay('9')\">9</button>\n",
    "  <button onclick=\"appendToDisplay('*')\">*</button>\n",
    "  <br>\n",
    "  <button onclick=\"appendToDisplay('0')\">0</button>\n",
    "  <button onclick=\"clearDisplay()\">C</button>\n",
    "  <button onclick=\"calculate()\">=</button>\n",
    "  <button onclick=\"appendToDisplay('/')\">/</button>\n",
    "</div>\n",
    "<script>\n",
    "  function appendToDisplay(value) {\n",
    "    document.getElementById(\"display\").value += value;\n",
    "  }\n",
    "\n",
    "  function clearDisplay() {\n",
    "    document.getElementById(\"display\").value = \"\";\n",
    "  }\n",
    "\n",
    "  function calculate() {\n",
    "    try {\n",
    "      document.getElementById(\"display\").value = eval(document.getElementById(\"display\").value);\n",
    "    } catch (error) {\n",
    "      document.getElementById(\"display\").value = \"Error\";\n",
    "    }\n",
    "  }\n",
    "</script>"
   ]
  }
 ],
 "metadata": {
  "kernelspec": {
   "display_name": "Python 3",
   "language": "python",
   "name": "python3"
  },
  "language_info": {
   "codemirror_mode": {
    "name": "ipython",
    "version": 3
   },
   "file_extension": ".py",
   "mimetype": "text/x-python",
   "name": "python",
   "nbconvert_exporter": "python",
   "pygments_lexer": "ipython3",
   "version": "3.9.13"
  },
  "orig_nbformat": 4
 },
 "nbformat": 4,
 "nbformat_minor": 2
}
